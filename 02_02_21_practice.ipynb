{
  "nbformat": 4,
  "nbformat_minor": 0,
  "metadata": {
    "colab": {
      "name": "02/02/21--practice.ipynb",
      "provenance": [],
      "authorship_tag": "ABX9TyMeQgeK+yI3CLnFFZMVQ2WL",
      "include_colab_link": true
    },
    "kernelspec": {
      "name": "python3",
      "display_name": "Python 3"
    }
  },
  "cells": [
    {
      "cell_type": "markdown",
      "metadata": {
        "id": "view-in-github",
        "colab_type": "text"
      },
      "source": [
        "<a href=\"https://colab.research.google.com/github/Mech123/practice/blob/master/02_02_21_practice.ipynb\" target=\"_parent\"><img src=\"https://colab.research.google.com/assets/colab-badge.svg\" alt=\"Open In Colab\"/></a>"
      ]
    },
    {
      "cell_type": "code",
      "metadata": {
        "id": "99Sbvj_EGAnM",
        "colab": {
          "base_uri": "https://localhost:8080/"
        },
        "outputId": "b8b98833-d43f-40a0-b4fa-2960a1d9c292"
      },
      "source": [
        "def repatedelement(arr,n):\r\n",
        "  d=dict()\r\n",
        "  ans=99999999999999\r\n",
        "  for i,e in enumerate(arr):\r\n",
        "    if(e in d):\r\n",
        "      if(d[e]<ans and ans!=-1):\r\n",
        "        ans=d[e]\r\n",
        "    else:\r\n",
        "      d[e]=i\r\n",
        "  if(ans!=999999999999):\r\n",
        "    return ans+1\r\n",
        "  else:\r\n",
        "    return -1\r\n",
        "\r\n",
        "n=7\r\n",
        "a=[1,5,3,4,3,5,6]\r\n",
        "print(repatedelement(a,n))"
      ],
      "execution_count": 2,
      "outputs": [
        {
          "output_type": "stream",
          "text": [
            "2\n"
          ],
          "name": "stdout"
        }
      ]
    }
  ]
}